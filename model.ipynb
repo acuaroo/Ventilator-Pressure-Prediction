{
 "cells": [
  {
   "cell_type": "code",
   "execution_count": 141,
   "id": "835f7844",
   "metadata": {},
   "outputs": [],
   "source": [
    "import pandas as pd\n",
    "import numpy  as np\n",
    "import tensorflow as tf\n",
    "import matplotlib.pyplot as plt\n",
    "\n",
    "from sklearn.model_selection import KFold\n",
    "from sklearn.preprocessing import RobustScaler\n",
    "from tensorflow import keras\n",
    "from keras.layers import Dense, LSTM"
   ]
  },
  {
   "cell_type": "code",
   "execution_count": 142,
   "id": "3210c5a4",
   "metadata": {},
   "outputs": [
    {
     "name": "stdout",
     "output_type": "stream",
     "text": [
      "   id  breath_id   R   C  time_step       u_in  u_out   pressure\n",
      "0   1          1  20  50   0.000000   0.083334      0   5.837492\n",
      "1   2          1  20  50   0.033652  18.383041      0   5.907794\n",
      "2   3          1  20  50   0.067514  22.509278      0   7.876254\n",
      "3   4          1  20  50   0.101542  22.808822      0  11.742872\n",
      "4   5          1  20  50   0.135756  25.355850      0  12.234987\n"
     ]
    }
   ],
   "source": [
    "scaler = RobustScaler()\n",
    "\n",
    "train_data = pd.read_csv(\"data/train.csv\")\n",
    "test_data = pd.read_csv(\"data/test.csv\")\n",
    "\n",
    "print(train_data.head())"
   ]
  },
  {
   "cell_type": "code",
   "execution_count": 143,
   "id": "2040e567",
   "metadata": {},
   "outputs": [
    {
     "name": "stdout",
     "output_type": "stream",
     "text": [
      "(6036000, 5) (4024000, 5) (75450, 80)\n"
     ]
    }
   ],
   "source": [
    "pressure_targets = train_data[['pressure']].to_numpy().reshape(-1, 80)\n",
    "\n",
    "train_data = train_data.drop(['pressure', 'id', 'breath_id'], axis=1)\n",
    "test_data =  test_data.drop(['id', 'breath_id'], axis=1)\n",
    "\n",
    "print(train_data.shape, test_data.shape, pressure_targets.shape)"
   ]
  },
  {
   "cell_type": "code",
   "execution_count": 144,
   "id": "43bef8cb",
   "metadata": {},
   "outputs": [],
   "source": [
    "train_data = scaler.fit_transform(train_data)\n",
    "test_data = scaler.transform(test_data)"
   ]
  },
  {
   "cell_type": "code",
   "execution_count": 145,
   "id": "a9426161",
   "metadata": {},
   "outputs": [],
   "source": [
    "features = train_data.shape[-1]\n",
    "\n",
    "train_data = train_data.reshape(-1, 80, features)\n",
    "test_data = test_data.reshape(-1, 80, features)"
   ]
  },
  {
   "cell_type": "code",
   "execution_count": 146,
   "id": "960d8ef7",
   "metadata": {},
   "outputs": [],
   "source": [
    "def plot_history(history):\n",
    "    plt.plot(history.history['mse'])\n",
    "    plt.plot(history.history['val_mse'])\n",
    "    plt.title('model mse')\n",
    "    plt.ylabel('mse')\n",
    "    plt.xlabel('epoch')\n",
    "    plt.legend(['train', 'val'], loc='upper left')\n",
    "    plt.show()"
   ]
  },
  {
   "cell_type": "code",
   "execution_count": 149,
   "id": "c27278c6",
   "metadata": {},
   "outputs": [
    {
     "name": "stdout",
     "output_type": "stream",
     "text": [
      "\n",
      "fold 0\n",
      "\n",
      "Epoch 1/10\n",
      "47/47 [==============================] - 3s 28ms/step - loss: 67.9411 - mse: 67.9411 - val_loss: 21.4824 - val_mse: 21.4824\n",
      "Epoch 2/10\n",
      "47/47 [==============================] - 1s 20ms/step - loss: 17.7739 - mse: 17.7739 - val_loss: 14.0984 - val_mse: 14.0984\n",
      "Epoch 3/10\n",
      "47/47 [==============================] - 1s 21ms/step - loss: 11.4207 - mse: 11.4207 - val_loss: 8.9740 - val_mse: 8.9740\n",
      "Epoch 4/10\n",
      "47/47 [==============================] - 1s 20ms/step - loss: 7.3902 - mse: 7.3902 - val_loss: 5.8068 - val_mse: 5.8068\n",
      "Epoch 5/10\n",
      "47/47 [==============================] - 1s 21ms/step - loss: 5.1544 - mse: 5.1544 - val_loss: 4.5673 - val_mse: 4.5673\n",
      "Epoch 6/10\n",
      "47/47 [==============================] - 1s 21ms/step - loss: 4.3135 - mse: 4.3135 - val_loss: 4.0381 - val_mse: 4.0381\n",
      "Epoch 7/10\n",
      "47/47 [==============================] - 1s 20ms/step - loss: 3.6828 - mse: 3.6828 - val_loss: 3.5386 - val_mse: 3.5386\n",
      "Epoch 8/10\n",
      "47/47 [==============================] - 1s 20ms/step - loss: 3.5587 - mse: 3.5587 - val_loss: 3.5406 - val_mse: 3.5406\n",
      "Epoch 9/10\n",
      "47/47 [==============================] - 1s 20ms/step - loss: 3.2879 - mse: 3.2879 - val_loss: 3.0684 - val_mse: 3.0684\n",
      "Epoch 10/10\n",
      "47/47 [==============================] - 1s 20ms/step - loss: 3.0068 - mse: 3.0068 - val_loss: 2.9707 - val_mse: 2.9707\n"
     ]
    },
    {
     "data": {
      "image/png": "[encoded data removed]",
      "text/plain": [
       "<Figure size 432x288 with 1 Axes>"
      ]
     },
     "metadata": {
      "needs_background": "light"
     },
     "output_type": "display_data"
    },
    {
     "name": "stdout",
     "output_type": "stream",
     "text": [
      "\n",
      "fold 1\n",
      "\n",
      "Epoch 1/10\n",
      "47/47 [==============================] - 2s 29ms/step - loss: 66.9716 - mse: 66.9716 - val_loss: 22.2869 - val_mse: 22.2869\n",
      "Epoch 2/10\n",
      "47/47 [==============================] - 1s 21ms/step - loss: 18.4581 - mse: 18.4581 - val_loss: 14.4029 - val_mse: 14.4029\n",
      "Epoch 3/10\n",
      "47/47 [==============================] - 1s 20ms/step - loss: 11.4319 - mse: 11.4319 - val_loss: 8.7404 - val_mse: 8.7404\n",
      "Epoch 4/10\n",
      "47/47 [==============================] - 1s 20ms/step - loss: 7.2888 - mse: 7.2888 - val_loss: 5.7736 - val_mse: 5.7736\n",
      "Epoch 5/10\n",
      "47/47 [==============================] - 1s 21ms/step - loss: 5.1834 - mse: 5.1834 - val_loss: 4.6145 - val_mse: 4.6145\n",
      "Epoch 6/10\n",
      "47/47 [==============================] - 1s 20ms/step - loss: 4.3769 - mse: 4.3769 - val_loss: 4.0907 - val_mse: 4.0907\n",
      "Epoch 7/10\n",
      "47/47 [==============================] - 1s 20ms/step - loss: 3.8342 - mse: 3.8342 - val_loss: 3.5583 - val_mse: 3.5583\n",
      "Epoch 8/10\n",
      "47/47 [==============================] - 1s 20ms/step - loss: 3.4822 - mse: 3.4822 - val_loss: 3.2980 - val_mse: 3.2980\n",
      "Epoch 9/10\n",
      "47/47 [==============================] - 1s 20ms/step - loss: 3.3069 - mse: 3.3069 - val_loss: 3.1402 - val_mse: 3.1402\n",
      "Epoch 10/10\n",
      "47/47 [==============================] - 1s 20ms/step - loss: 3.1940 - mse: 3.1940 - val_loss: 3.0056 - val_mse: 3.0056\n"
     ]
    },
    {
     "data": {
      "image/png": "[encoded data removed]",
      "text/plain": [
       "<Figure size 432x288 with 1 Axes>"
      ]
     },
     "metadata": {
      "needs_background": "light"
     },
     "output_type": "display_data"
    },
    {
     "name": "stdout",
     "output_type": "stream",
     "text": [
      "\n",
      "fold 2\n",
      "\n",
      "Epoch 1/10\n",
      "47/47 [==============================] - 3s 30ms/step - loss: 70.6058 - mse: 70.6058 - val_loss: 21.6371 - val_mse: 21.6371\n",
      "Epoch 2/10\n",
      "47/47 [==============================] - 1s 20ms/step - loss: 18.4535 - mse: 18.4535 - val_loss: 14.9426 - val_mse: 14.9426\n",
      "Epoch 3/10\n",
      "47/47 [==============================] - 1s 21ms/step - loss: 11.8146 - mse: 11.8146 - val_loss: 9.3420 - val_mse: 9.3420\n",
      "Epoch 4/10\n",
      "47/47 [==============================] - 1s 21ms/step - loss: 7.6217 - mse: 7.6217 - val_loss: 6.3670 - val_mse: 6.3670\n",
      "Epoch 5/10\n",
      "47/47 [==============================] - 1s 20ms/step - loss: 5.4403 - mse: 5.4403 - val_loss: 4.8873 - val_mse: 4.8873\n",
      "Epoch 6/10\n",
      "47/47 [==============================] - 1s 20ms/step - loss: 4.5612 - mse: 4.5612 - val_loss: 4.6097 - val_mse: 4.6097\n",
      "Epoch 7/10\n",
      "47/47 [==============================] - 1s 20ms/step - loss: 3.9685 - mse: 3.9685 - val_loss: 3.6646 - val_mse: 3.6646\n",
      "Epoch 8/10\n",
      "47/47 [==============================] - 1s 21ms/step - loss: 3.6101 - mse: 3.6101 - val_loss: 3.5609 - val_mse: 3.5609\n",
      "Epoch 9/10\n",
      "47/47 [==============================] - 1s 21ms/step - loss: 3.4061 - mse: 3.4061 - val_loss: 3.1887 - val_mse: 3.1887\n",
      "Epoch 10/10\n",
      "47/47 [==============================] - 1s 20ms/step - loss: 3.2065 - mse: 3.2065 - val_loss: 3.3294 - val_mse: 3.3294\n"
     ]
    },
    {
     "data": {
      "image/png": "[encoded data removed]",
      "text/plain": [
       "<Figure size 432x288 with 1 Axes>"
      ]
     },
     "metadata": {
      "needs_background": "light"
     },
     "output_type": "display_data"
    },
    {
     "name": "stdout",
     "output_type": "stream",
     "text": [
      "\n",
      "fold 3\n",
      "\n",
      "Epoch 1/10\n",
      "47/47 [==============================] - 3s 31ms/step - loss: 68.4723 - mse: 68.4723 - val_loss: 22.6448 - val_mse: 22.6448\n",
      "Epoch 2/10\n",
      "47/47 [==============================] - 1s 20ms/step - loss: 20.0241 - mse: 20.0241 - val_loss: 15.4018 - val_mse: 15.4018\n",
      "Epoch 3/10\n",
      "47/47 [==============================] - 1s 20ms/step - loss: 12.7577 - mse: 12.7577 - val_loss: 9.7496 - val_mse: 9.7496\n",
      "Epoch 4/10\n",
      "47/47 [==============================] - 1s 20ms/step - loss: 8.4501 - mse: 8.4501 - val_loss: 9.0410 - val_mse: 9.0410\n",
      "Epoch 5/10\n",
      "47/47 [==============================] - 1s 21ms/step - loss: 5.9334 - mse: 5.9334 - val_loss: 4.9978 - val_mse: 4.9978\n",
      "Epoch 6/10\n",
      "47/47 [==============================] - 1s 20ms/step - loss: 4.4963 - mse: 4.4963 - val_loss: 4.0665 - val_mse: 4.0665\n",
      "Epoch 7/10\n",
      "47/47 [==============================] - 1s 21ms/step - loss: 3.9727 - mse: 3.9727 - val_loss: 3.6469 - val_mse: 3.6469\n",
      "Epoch 8/10\n",
      "47/47 [==============================] - 1s 21ms/step - loss: 3.6671 - mse: 3.6671 - val_loss: 3.4611 - val_mse: 3.4611\n",
      "Epoch 9/10\n",
      "47/47 [==============================] - 1s 20ms/step - loss: 3.4504 - mse: 3.4504 - val_loss: 3.5603 - val_mse: 3.5603\n",
      "Epoch 10/10\n",
      "47/47 [==============================] - 1s 20ms/step - loss: 3.2827 - mse: 3.2827 - val_loss: 3.2042 - val_mse: 3.2042\n"
     ]
    },
    {
     "data": {
      "image/png": "[encoded data removed]",
      "text/plain": [
       "<Figure size 432x288 with 1 Axes>"
      ]
     },
     "metadata": {
      "needs_background": "light"
     },
     "output_type": "display_data"
    },
    {
     "name": "stdout",
     "output_type": "stream",
     "text": [
      "\n",
      "fold 4\n",
      "\n",
      "Epoch 1/10\n",
      "47/47 [==============================] - 3s 29ms/step - loss: 77.9486 - mse: 77.9486 - val_loss: 25.3194 - val_mse: 25.3194\n",
      "Epoch 2/10\n",
      "47/47 [==============================] - 1s 20ms/step - loss: 21.2408 - mse: 21.2408 - val_loss: 16.8916 - val_mse: 16.8916\n",
      "Epoch 3/10\n",
      "47/47 [==============================] - 1s 21ms/step - loss: 13.5633 - mse: 13.5633 - val_loss: 10.4168 - val_mse: 10.4168\n",
      "Epoch 4/10\n",
      "47/47 [==============================] - 1s 20ms/step - loss: 8.3601 - mse: 8.3601 - val_loss: 6.8907 - val_mse: 6.8907\n",
      "Epoch 5/10\n",
      "47/47 [==============================] - 1s 20ms/step - loss: 6.2352 - mse: 6.2352 - val_loss: 5.4011 - val_mse: 5.4011\n",
      "Epoch 6/10\n",
      "47/47 [==============================] - 1s 20ms/step - loss: 4.8444 - mse: 4.8444 - val_loss: 4.4343 - val_mse: 4.4343\n",
      "Epoch 7/10\n",
      "47/47 [==============================] - 1s 20ms/step - loss: 4.3237 - mse: 4.3237 - val_loss: 4.6217 - val_mse: 4.6217\n",
      "Epoch 8/10\n",
      "47/47 [==============================] - 1s 20ms/step - loss: 3.8617 - mse: 3.8617 - val_loss: 3.6845 - val_mse: 3.6845\n",
      "Epoch 9/10\n",
      "47/47 [==============================] - 1s 20ms/step - loss: 4.0488 - mse: 4.0488 - val_loss: 3.6421 - val_mse: 3.6421\n",
      "Epoch 10/10\n",
      "47/47 [==============================] - 1s 21ms/step - loss: 3.3319 - mse: 3.3319 - val_loss: 3.2186 - val_mse: 3.2186\n"
     ]
    },
    {
     "data": {
      "image/png": "[encoded data removed]",
      "text/plain": [
       "<Figure size 432x288 with 1 Axes>"
      ]
     },
     "metadata": {
      "needs_background": "light"
     },
     "output_type": "display_data"
    }
   ],
   "source": [
    "kfold_splits = 5\n",
    "kfold = KFold(n_splits=kfold_splits, shuffle=False)\n",
    "\n",
    "test_predictions = []\n",
    "\n",
    "for fold, (train_index, test_index) in enumerate(kfold.split(train_data, pressure_targets)):\n",
    "    print(f\"\\nfold {fold}\\n\")\n",
    "    \n",
    "    x_train, x_valid = train_data[train_index], train_data[test_index]\n",
    "    y_train, y_valid = pressure_targets[train_index], pressure_targets[test_index]\n",
    "        \n",
    "    model = keras.models.Sequential()\n",
    "    \n",
    "    model.add(LSTM(100, return_sequences=True, input_shape=(80, features)))\n",
    "    model.add(Dense(50))\n",
    "    model.add(Dense(25))\n",
    "    model.add(Dense(1))\n",
    "    \n",
    "    #model.summary()\n",
    "    \n",
    "    model.compile(\n",
    "        loss='mse', \n",
    "        optimizer='adam', \n",
    "        metrics=['mse'])\n",
    "    \n",
    "    history = model.fit(x_train, y_train, \n",
    "                        validation_data=(x_valid, y_valid), \n",
    "                        epochs=10, \n",
    "                        batch_size=1300)\n",
    "    \n",
    "    model.save(f'models/fold-{fold}.h5')\n",
    "    plot_history(history)\n",
    "    \n",
    "    test_predictions.append(model.predict(test_data))"
   ]
  },
  {
   "cell_type": "code",
   "execution_count": 150,
   "id": "d0123379",
   "metadata": {
    "scrolled": true
   },
   "outputs": [
    {
     "name": "stdout",
     "output_type": "stream",
     "text": [
      "[[3.6035697]\n",
      " [6.081458 ]\n",
      " [7.56528  ]\n",
      " [8.627729 ]\n",
      " [8.283381 ]\n",
      " [8.470778 ]\n",
      " [7.5531244]\n",
      " [7.9574647]\n",
      " [7.278987 ]\n",
      " [7.9138284]\n",
      " [7.3870177]\n",
      " [8.177976 ]\n",
      " [7.6876497]\n",
      " [8.44191  ]\n",
      " [8.01513  ]\n",
      " [8.778166 ]\n",
      " [8.337583 ]\n",
      " [9.092743 ]\n",
      " [8.594757 ]\n",
      " [9.135714 ]\n",
      " [8.936578 ]\n",
      " [9.344702 ]\n",
      " [9.144609 ]\n",
      " [9.563928 ]\n",
      " [9.324678 ]\n",
      " [9.668772 ]\n",
      " [9.431193 ]\n",
      " [9.705678 ]\n",
      " [9.46848  ]\n",
      " [8.932407 ]\n",
      " [7.945812 ]\n",
      " [7.232708 ]\n",
      " [6.758157 ]\n",
      " [6.448184 ]\n",
      " [6.250332 ]\n",
      " [6.126157 ]\n",
      " [6.0484934]\n",
      " [5.99926  ]\n",
      " [5.966384 ]\n",
      " [5.942681 ]\n",
      " [5.923407 ]\n",
      " [5.9058056]\n",
      " [5.8883643]\n",
      " [5.870475 ]\n",
      " [5.860694 ]\n",
      " [5.886648 ]\n",
      " [5.9338446]\n",
      " [5.988151 ]\n",
      " [6.040164 ]\n",
      " [6.08403  ]\n",
      " [6.1166396]\n",
      " [6.1369767]\n",
      " [6.146106 ]\n",
      " [6.145197 ]\n",
      " [6.1363025]\n",
      " [6.121924 ]\n",
      " [6.1038218]\n",
      " [6.0834746]\n",
      " [6.062252 ]\n",
      " [6.0412593]\n",
      " [6.020478 ]\n",
      " [6.0006595]\n",
      " [5.981733 ]\n",
      " [5.963704 ]\n",
      " [5.9460325]\n",
      " [5.9290047]\n",
      " [5.912239 ]\n",
      " [5.8955297]\n",
      " [5.8788357]\n",
      " [5.8619294]\n",
      " [5.84466  ]\n",
      " [5.8271117]\n",
      " [5.809122 ]\n",
      " [5.790634 ]\n",
      " [5.771619 ]\n",
      " [5.7518454]\n",
      " [5.7315273]\n",
      " [5.710782 ]\n",
      " [5.689198 ]\n",
      " [5.6672726]]\n"
     ]
    }
   ],
   "source": [
    "average_pressure = sum(test_predictions) / kfold_splits \n",
    "\n",
    "print(average_pressure[1])"
   ]
  },
  {
   "cell_type": "code",
   "execution_count": null,
   "id": "9ada468c",
   "metadata": {},
   "outputs": [],
   "source": []
  }
 ],
 "metadata": {
  "kernelspec": {
   "display_name": "Python 3 (ipykernel)",
   "language": "python",
   "name": "python3"
  },
  "language_info": {
   "codemirror_mode": {
    "name": "ipython",
    "version": 3
   },
   "file_extension": ".py",
   "mimetype": "text/x-python",
   "name": "python",
   "nbconvert_exporter": "python",
   "pygments_lexer": "ipython3",
   "version": "3.9.7"
  }
 },
 "nbformat": 4,
 "nbformat_minor": 5
}
