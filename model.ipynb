{
 "cells": [
  {
   "cell_type": "code",
   "execution_count": 1,
   "id": "0985580c",
   "metadata": {},
   "outputs": [],
   "source": [
    "import pandas as pd\n",
    "import numpy  as np\n",
    "import tensorflow as tf\n",
    "import matplotlib.pyplot as plt\n",
    "\n",
    "from sklearn.model_selection import KFold\n",
    "from sklearn.preprocessing import RobustScaler\n",
    "from tensorflow import keras\n",
    "from keras.layers import Dense, LSTM"
   ]
  },
  {
   "cell_type": "code",
   "execution_count": 21,
   "id": "aa9f68e8",
   "metadata": {
    "scrolled": true
   },
   "outputs": [
    {
     "name": "stdout",
     "output_type": "stream",
     "text": [
      "   id  breath_id   R   C  time_step       u_in  u_out   pressure\n",
      "0   1          1  20  50   0.000000   0.083334      0   5.837492\n",
      "1   2          1  20  50   0.033652  18.383041      0   5.907794\n",
      "2   3          1  20  50   0.067514  22.509278      0   7.876254\n",
      "3   4          1  20  50   0.101542  22.808822      0  11.742872\n",
      "4   5          1  20  50   0.135756  25.355850      0  12.234987\n"
     ]
    }
   ],
   "source": [
    "scaler = RobustScaler()\n",
    "\n",
    "train_data = pd.read_csv(\"data/train.csv\")\n",
    "test_data = pd.read_csv(\"data/test.csv\")\n",
    "\n",
    "pd_data = test_data\n",
    "\n",
    "print(train_data.head())"
   ]
  },
  {
   "cell_type": "code",
   "execution_count": 3,
   "id": "0f2662a5",
   "metadata": {},
   "outputs": [],
   "source": [
    "def add_features(df):\n",
    "    df['cross']= df['u_in'] * df['u_out']\n",
    "    df['cross2']= df['time_step'] * df['u_out']\n",
    "    df['area'] = df['time_step'] * df['u_in']\n",
    "    df['area'] = df.groupby('breath_id')['area'].cumsum()\n",
    "    df['time_step_cumsum'] = df.groupby(['breath_id'])['time_step'].cumsum()\n",
    "    df['u_in_cumsum'] = (df['u_in']).groupby(df['breath_id']).cumsum()\n",
    "    \n",
    "    df['u_in_lag1'] = df.groupby('breath_id')['u_in'].shift(1)\n",
    "    df['u_out_lag1'] = df.groupby('breath_id')['u_out'].shift(1)\n",
    "    df['u_in_lag_back1'] = df.groupby('breath_id')['u_in'].shift(-1)\n",
    "    df['u_out_lag_back1'] = df.groupby('breath_id')['u_out'].shift(-1)\n",
    "    df['u_in_lag2'] = df.groupby('breath_id')['u_in'].shift(2)\n",
    "    df['u_out_lag2'] = df.groupby('breath_id')['u_out'].shift(2)\n",
    "    df['u_in_lag_back2'] = df.groupby('breath_id')['u_in'].shift(-2)\n",
    "    df['u_out_lag_back2'] = df.groupby('breath_id')['u_out'].shift(-2)\n",
    "    df['u_in_lag3'] = df.groupby('breath_id')['u_in'].shift(3)\n",
    "    df['u_out_lag3'] = df.groupby('breath_id')['u_out'].shift(3)\n",
    "    df['u_in_lag_back3'] = df.groupby('breath_id')['u_in'].shift(-3)\n",
    "    df['u_out_lag_back3'] = df.groupby('breath_id')['u_out'].shift(-3)\n",
    "    df['u_in_lag4'] = df.groupby('breath_id')['u_in'].shift(4)\n",
    "    df['u_out_lag4'] = df.groupby('breath_id')['u_out'].shift(4)\n",
    "    df['u_in_lag_back4'] = df.groupby('breath_id')['u_in'].shift(-4)\n",
    "    df['u_out_lag_back4'] = df.groupby('breath_id')['u_out'].shift(-4)\n",
    "    df = df.fillna(0)\n",
    "    \n",
    "    df['breath_id__u_in__max'] = df.groupby(['breath_id'])['u_in'].transform('max')\n",
    "    df['breath_id__u_in__mean'] = df.groupby(['breath_id'])['u_in'].transform('mean')\n",
    "    df['breath_id__u_in__diffmax'] = df.groupby(['breath_id'])['u_in'].transform('max') - df['u_in']\n",
    "    df['breath_id__u_in__diffmean'] = df.groupby(['breath_id'])['u_in'].transform('mean') - df['u_in']\n",
    "    \n",
    "    df['u_in_diff1'] = df['u_in'] - df['u_in_lag1']\n",
    "    df['u_out_diff1'] = df['u_out'] - df['u_out_lag1']\n",
    "    df['u_in_diff2'] = df['u_in'] - df['u_in_lag2']\n",
    "    df['u_out_diff2'] = df['u_out'] - df['u_out_lag2']\n",
    "    df['u_in_diff3'] = df['u_in'] - df['u_in_lag3']\n",
    "    df['u_out_diff3'] = df['u_out'] - df['u_out_lag3']\n",
    "    df['u_in_diff4'] = df['u_in'] - df['u_in_lag4']\n",
    "    df['u_out_diff4'] = df['u_out'] - df['u_out_lag4']\n",
    "    \n",
    "    return df"
   ]
  },
  {
   "cell_type": "code",
   "execution_count": 4,
   "id": "e6cee619",
   "metadata": {},
   "outputs": [
    {
     "name": "stdout",
     "output_type": "stream",
     "text": [
      "\n",
      "train data...\n",
      "\n",
      "\test data...\n",
      "\n"
     ]
    }
   ],
   "source": [
    "print(\"\\ntrain data...\\n\")\n",
    "train_data = add_features(train_data)\n",
    "\n",
    "print(\"\\test data...\\n\")\n",
    "test_data = add_features(test_data)"
   ]
  },
  {
   "cell_type": "code",
   "execution_count": 5,
   "id": "2680d8fd",
   "metadata": {},
   "outputs": [
    {
     "name": "stdout",
     "output_type": "stream",
     "text": [
      "(6036000, 38) (4024000, 38) (75450, 80)\n"
     ]
    }
   ],
   "source": [
    "pressure_targets = train_data[['pressure']].to_numpy().reshape(-1, 80)\n",
    "\n",
    "# train_data = train_data.drop(['pressure', 'id', 'breath_id'], axis=1)\n",
    "# test_data = test_data.drop(['id', 'breath_id'], axis=1)\n",
    "\n",
    "train_data = train_data.drop(['pressure', 'id', 'breath_id'], axis=1)\n",
    "test_data = test_data.drop(['id', 'breath_id'], axis=1)\n",
    "\n",
    "print(train_data.shape, test_data.shape, pressure_targets.shape)"
   ]
  },
  {
   "cell_type": "code",
   "execution_count": 20,
   "id": "f7b8c09c",
   "metadata": {},
   "outputs": [
    {
     "ename": "AttributeError",
     "evalue": "'numpy.ndarray' object has no attribute 'head'",
     "output_type": "error",
     "traceback": [
      "\u001b[1;31m---------------------------------------------------------------------------\u001b[0m",
      "\u001b[1;31mAttributeError\u001b[0m                            Traceback (most recent call last)",
      "\u001b[1;32m~\\AppData\\Local\\Temp\\ipykernel_5508\\641190890.py\u001b[0m in \u001b[0;36m<module>\u001b[1;34m\u001b[0m\n\u001b[1;32m----> 1\u001b[1;33m \u001b[0mtest_data\u001b[0m\u001b[1;33m.\u001b[0m\u001b[0mhead\u001b[0m\u001b[1;33m(\u001b[0m\u001b[1;33m)\u001b[0m\u001b[1;33m\u001b[0m\u001b[1;33m\u001b[0m\u001b[0m\n\u001b[0m\u001b[0;32m      2\u001b[0m \u001b[1;33m\u001b[0m\u001b[0m\n\u001b[0;32m      3\u001b[0m \u001b[0mtest_data_pd\u001b[0m \u001b[1;33m=\u001b[0m \u001b[0mtest_data\u001b[0m\u001b[1;33m\u001b[0m\u001b[1;33m\u001b[0m\u001b[0m\n",
      "\u001b[1;31mAttributeError\u001b[0m: 'numpy.ndarray' object has no attribute 'head'"
     ]
    }
   ],
   "source": [
    "test_data.head()"
   ]
  },
  {
   "cell_type": "code",
   "execution_count": 7,
   "id": "9dd33b3e",
   "metadata": {},
   "outputs": [
    {
     "name": "stdout",
     "output_type": "stream",
     "text": [
      "[[ 0.00000000e+00  7.50000000e-01 -9.89052161e-01 -9.37384450e-01\n",
      "  -1.00000000e+00  0.00000000e+00 -6.65541311e-01 -5.16580501e-01\n",
      "  -4.96657632e-01 -7.25227791e-01 -8.64120606e-01 -1.00000000e+00\n",
      "   2.89020724e+00 -1.00000000e+00 -8.42526591e-01 -1.00000000e+00\n",
      "   3.66402550e+00 -1.00000000e+00 -8.19257888e-01 -1.00000000e+00\n",
      "   3.74391547e+00 -1.00000000e+00 -7.94151600e-01 -1.00000000e+00\n",
      "   4.27782420e+00 -1.00000000e+00  1.12207936e-01  9.08068790e-01\n",
      "   3.26940916e-01  1.27386353e+00  4.71408803e-01  0.00000000e+00\n",
      "   2.17993186e-01  0.00000000e+00  1.21027987e-01  0.00000000e+00\n",
      "   6.83146754e-02  0.00000000e+00]\n",
      " [ 0.00000000e+00  7.50000000e-01 -9.63608151e-01  3.04927811e+00\n",
      "  -1.00000000e+00  0.00000000e+00 -6.65541311e-01 -5.14030884e-01\n",
      "  -4.96023692e-01 -6.76829391e-01 -8.47360186e-01 -1.00000000e+00\n",
      "   3.73971160e+00 -1.00000000e+00 -8.42526591e-01 -1.00000000e+00\n",
      "   3.72421814e+00 -1.00000000e+00 -8.19257888e-01 -1.00000000e+00\n",
      "   4.25618879e+00 -1.00000000e+00 -7.94151600e-01 -1.00000000e+00\n",
      "   4.66104688e+00 -1.00000000e+00  1.12207936e-01  9.08068790e-01\n",
      "  -1.78436353e-01 -1.45020464e+00  1.13467773e+02  0.00000000e+00\n",
      "   5.87626705e+01  0.00000000e+00  3.80910047e+01  0.00000000e+00\n",
      "   2.63062501e+01  0.00000000e+00]\n",
      " [ 0.00000000e+00  7.50000000e-01 -9.38005507e-01  3.94819476e+00\n",
      "  -1.00000000e+00  0.00000000e+00 -6.65541311e-01 -5.07767618e-01\n",
      "  -4.94751861e-01 -6.17567543e-01  2.83313959e+00 -1.00000000e+00\n",
      "   3.80138144e+00 -1.00000000e+00 -8.25784165e-01 -1.00000000e+00\n",
      "   4.23603637e+00 -1.00000000e+00 -8.19257888e-01 -1.00000000e+00\n",
      "   4.63913563e+00 -1.00000000e+00 -7.94151600e-01 -1.00000000e+00\n",
      "   4.63440261e+00 -1.00000000e+00  1.12207936e-01  9.08068790e-01\n",
      "  -2.92389324e-01 -2.06443025e+00  2.55495760e+01  0.00000000e+00\n",
      "   7.16967794e+01  0.00000000e+00  4.66525130e+01  0.00000000e+00\n",
      "   3.22224059e+01  0.00000000e+00]\n",
      " [ 0.00000000e+00  7.50000000e-01 -9.12277580e-01  4.01345170e+00\n",
      "  -1.00000000e+00  0.00000000e+00 -6.65541311e-01 -4.98222257e-01\n",
      "  -4.92839016e-01 -5.57517061e-01  3.66302235e+00 -1.00000000e+00\n",
      "   4.32576038e+00 -1.00000000e+00  2.85076408e+00 -1.00000000e+00\n",
      "   4.61864303e+00 -1.00000000e+00 -8.02501474e-01 -1.00000000e+00\n",
      "   4.61251054e+00 -1.00000000e+00 -7.94151600e-01 -1.00000000e+00\n",
      "   4.57004550e+00 -1.00000000e+00  1.12207936e-01  9.08068790e-01\n",
      "  -3.00661750e-01 -2.10902002e+00  1.81256479e+00  0.00000000e+00\n",
      "   1.41104090e+01  0.00000000e+00  4.71011271e+01  0.00000000e+00\n",
      "   3.26518898e+01  0.00000000e+00]\n",
      " [ 0.00000000e+00  7.50000000e-01 -8.86409407e-01  4.56833168e+00\n",
      "  -1.00000000e+00  0.00000000e+00 -6.65541311e-01 -4.84035652e-01\n",
      "  -4.90281663e-01 -4.90760829e-01  3.72326776e+00 -1.00000000e+00\n",
      "   4.71775671e+00 -1.00000000e+00  3.67975584e+00 -1.00000000e+00\n",
      "   4.59204159e+00 -1.00000000e+00  2.87711856e+00 -1.00000000e+00\n",
      "   4.54819976e+00 -1.00000000e+00 -7.77378678e-01 -1.00000000e+00\n",
      "   4.78278541e+00 -1.00000000e+00  1.12207936e-01  9.08068790e-01\n",
      "  -3.71002223e-01 -2.48816695e+00  1.57537299e+01  0.00000000e+00\n",
      "   9.05818410e+00  0.00000000e+00  1.44159668e+01  0.00000000e+00\n",
      "   3.61843094e+01  0.00000000e+00]]\n"
     ]
    }
   ],
   "source": [
    "train_data = scaler.fit_transform(train_data)\n",
    "test_data = scaler.transform(test_data)\n",
    "\n",
    "print(train_data[:5])"
   ]
  },
  {
   "cell_type": "code",
   "execution_count": 8,
   "id": "9b96405c",
   "metadata": {},
   "outputs": [
    {
     "name": "stdout",
     "output_type": "stream",
     "text": [
      "(75450, 80, 38) (50300, 80, 38)\n"
     ]
    }
   ],
   "source": [
    "features = train_data.shape[-1]\n",
    "\n",
    "train_data = train_data.reshape(-1, 80, features)\n",
    "test_data = test_data.reshape(-1, 80, features)\n",
    "\n",
    "print(train_data.shape, test_data.shape)"
   ]
  },
  {
   "cell_type": "code",
   "execution_count": 9,
   "id": "19b94faa",
   "metadata": {},
   "outputs": [],
   "source": [
    "def plot_history(history):\n",
    "    plt.plot(history.history['mse'])\n",
    "    plt.plot(history.history['val_mse'])\n",
    "    plt.title('model mse')\n",
    "    plt.ylabel('mse')\n",
    "    plt.xlabel('epoch')\n",
    "    plt.legend(['train', 'val'], loc='upper left')\n",
    "    plt.show()"
   ]
  },
  {
   "cell_type": "code",
   "execution_count": 10,
   "id": "8b319912",
   "metadata": {},
   "outputs": [
    {
     "name": "stdout",
     "output_type": "stream",
     "text": [
      "\n",
      "fold 0\n",
      "\n",
      "Epoch 1/20\n",
      "57/57 [==============================] - 18s 135ms/step - loss: 32.3932 - mse: 32.3932 - val_loss: 9.0517 - val_mse: 9.0517\n",
      "Epoch 2/20\n",
      "57/57 [==============================] - 7s 121ms/step - loss: 6.8269 - mse: 6.8269 - val_loss: 4.7481 - val_mse: 4.7481\n",
      "Epoch 3/20\n",
      "57/57 [==============================] - 7s 119ms/step - loss: 4.4079 - mse: 4.4079 - val_loss: 3.1492 - val_mse: 3.1492\n",
      "Epoch 4/20\n",
      "57/57 [==============================] - 7s 121ms/step - loss: 3.2200 - mse: 3.2200 - val_loss: 2.6621 - val_mse: 2.6621\n",
      "Epoch 5/20\n",
      "57/57 [==============================] - 7s 123ms/step - loss: 2.6328 - mse: 2.6328 - val_loss: 2.3620 - val_mse: 2.3620\n",
      "Epoch 6/20\n",
      "57/57 [==============================] - 7s 123ms/step - loss: 2.3135 - mse: 2.3135 - val_loss: 2.2205 - val_mse: 2.2205\n",
      "Epoch 7/20\n",
      "57/57 [==============================] - 7s 123ms/step - loss: 1.9925 - mse: 1.9925 - val_loss: 1.6381 - val_mse: 1.6381\n",
      "Epoch 8/20\n",
      "57/57 [==============================] - 7s 124ms/step - loss: 1.8669 - mse: 1.8669 - val_loss: 1.5738 - val_mse: 1.5738\n",
      "Epoch 9/20\n",
      "57/57 [==============================] - 7s 120ms/step - loss: 1.6737 - mse: 1.6737 - val_loss: 1.3292 - val_mse: 1.3292\n",
      "Epoch 10/20\n",
      "57/57 [==============================] - 7s 122ms/step - loss: 1.5527 - mse: 1.5527 - val_loss: 1.4009 - val_mse: 1.4009\n",
      "Epoch 11/20\n",
      "57/57 [==============================] - 7s 120ms/step - loss: 1.4903 - mse: 1.4903 - val_loss: 1.2006 - val_mse: 1.2006\n",
      "Epoch 12/20\n",
      "57/57 [==============================] - 7s 120ms/step - loss: 1.4309 - mse: 1.4309 - val_loss: 1.1161 - val_mse: 1.1161\n",
      "Epoch 13/20\n",
      "57/57 [==============================] - 7s 120ms/step - loss: 1.2646 - mse: 1.2646 - val_loss: 1.0556 - val_mse: 1.0556\n",
      "Epoch 14/20\n",
      "57/57 [==============================] - 7s 120ms/step - loss: 1.3059 - mse: 1.3059 - val_loss: 1.1575 - val_mse: 1.1575\n",
      "Epoch 15/20\n",
      "57/57 [==============================] - 7s 121ms/step - loss: 1.2330 - mse: 1.2330 - val_loss: 1.1136 - val_mse: 1.1136\n",
      "Epoch 16/20\n",
      "57/57 [==============================] - 7s 120ms/step - loss: 1.1258 - mse: 1.1258 - val_loss: 1.0461 - val_mse: 1.0461\n",
      "Epoch 17/20\n",
      "57/57 [==============================] - 7s 121ms/step - loss: 1.1314 - mse: 1.1314 - val_loss: 0.9447 - val_mse: 0.9447\n",
      "Epoch 18/20\n",
      "57/57 [==============================] - 7s 127ms/step - loss: 1.0500 - mse: 1.0500 - val_loss: 0.8804 - val_mse: 0.8804\n",
      "Epoch 19/20\n",
      "57/57 [==============================] - 7s 123ms/step - loss: 1.0259 - mse: 1.0259 - val_loss: 0.8019 - val_mse: 0.8019\n",
      "Epoch 20/20\n",
      "57/57 [==============================] - 7s 125ms/step - loss: 0.9697 - mse: 0.9697 - val_loss: 0.8454 - val_mse: 0.8454\n"
     ]
    },
    {
     "data": {
      "image/png": "[encoded data removed]",
      "text/plain": [
       "<Figure size 432x288 with 1 Axes>"
      ]
     },
     "metadata": {
      "needs_background": "light"
     },
     "output_type": "display_data"
    },
    {
     "name": "stdout",
     "output_type": "stream",
     "text": [
      "\n",
      "fold 1\n",
      "\n",
      "Epoch 1/20\n",
      "57/57 [==============================] - 12s 148ms/step - loss: 33.5094 - mse: 33.5094 - val_loss: 9.7630 - val_mse: 9.7630\n",
      "Epoch 2/20\n",
      "57/57 [==============================] - 7s 121ms/step - loss: 6.7423 - mse: 6.7423 - val_loss: 4.5973 - val_mse: 4.5973\n",
      "Epoch 3/20\n",
      "57/57 [==============================] - 7s 123ms/step - loss: 4.2000 - mse: 4.2000 - val_loss: 3.2278 - val_mse: 3.2278\n",
      "Epoch 4/20\n",
      "57/57 [==============================] - 7s 122ms/step - loss: 3.1389 - mse: 3.1389 - val_loss: 2.3981 - val_mse: 2.3981\n",
      "Epoch 5/20\n",
      "57/57 [==============================] - 7s 124ms/step - loss: 2.5387 - mse: 2.5387 - val_loss: 1.9470 - val_mse: 1.9470\n",
      "Epoch 6/20\n",
      "57/57 [==============================] - 7s 121ms/step - loss: 2.2100 - mse: 2.2100 - val_loss: 1.7422 - val_mse: 1.7422\n",
      "Epoch 7/20\n",
      "57/57 [==============================] - 7s 122ms/step - loss: 1.9201 - mse: 1.9201 - val_loss: 1.5121 - val_mse: 1.5121\n",
      "Epoch 8/20\n",
      "57/57 [==============================] - 7s 121ms/step - loss: 1.8121 - mse: 1.8121 - val_loss: 1.5118 - val_mse: 1.5118\n",
      "Epoch 9/20\n",
      "57/57 [==============================] - 7s 124ms/step - loss: 1.6158 - mse: 1.6158 - val_loss: 1.2945 - val_mse: 1.2945\n",
      "Epoch 10/20\n",
      "57/57 [==============================] - 7s 130ms/step - loss: 1.5143 - mse: 1.5143 - val_loss: 1.3088 - val_mse: 1.3088\n",
      "Epoch 11/20\n",
      "57/57 [==============================] - 8s 136ms/step - loss: 1.4723 - mse: 1.4723 - val_loss: 1.3003 - val_mse: 1.3003\n",
      "Epoch 12/20\n",
      "57/57 [==============================] - 7s 121ms/step - loss: 1.4302 - mse: 1.4302 - val_loss: 1.3895 - val_mse: 1.3895\n",
      "Epoch 13/20\n",
      "57/57 [==============================] - 7s 124ms/step - loss: 1.3132 - mse: 1.3132 - val_loss: 1.0219 - val_mse: 1.0219\n",
      "Epoch 14/20\n",
      "57/57 [==============================] - 7s 123ms/step - loss: 1.1853 - mse: 1.1853 - val_loss: 0.9828 - val_mse: 0.9828\n",
      "Epoch 15/20\n",
      "57/57 [==============================] - 7s 124ms/step - loss: 1.2862 - mse: 1.2862 - val_loss: 1.1305 - val_mse: 1.1305\n",
      "Epoch 16/20\n",
      "57/57 [==============================] - 7s 123ms/step - loss: 1.1659 - mse: 1.1659 - val_loss: 0.8975 - val_mse: 0.8975\n",
      "Epoch 17/20\n",
      "57/57 [==============================] - 7s 126ms/step - loss: 1.1270 - mse: 1.1270 - val_loss: 0.9164 - val_mse: 0.9164\n",
      "Epoch 18/20\n",
      "57/57 [==============================] - 7s 125ms/step - loss: 1.0635 - mse: 1.0635 - val_loss: 0.8896 - val_mse: 0.8896\n",
      "Epoch 19/20\n",
      "57/57 [==============================] - 7s 124ms/step - loss: 1.0606 - mse: 1.0606 - val_loss: 1.0581 - val_mse: 1.0581\n",
      "Epoch 20/20\n",
      "57/57 [==============================] - 7s 125ms/step - loss: 0.9774 - mse: 0.9774 - val_loss: 0.8763 - val_mse: 0.8763\n"
     ]
    },
    {
     "data": {
      "image/png": "[encoded data removed]",
      "text/plain": [
       "<Figure size 432x288 with 1 Axes>"
      ]
     },
     "metadata": {
      "needs_background": "light"
     },
     "output_type": "display_data"
    },
    {
     "name": "stdout",
     "output_type": "stream",
     "text": [
      "\n",
      "fold 2\n",
      "\n",
      "Epoch 1/20\n",
      "57/57 [==============================] - 11s 139ms/step - loss: 33.0637 - mse: 33.0637 - val_loss: 9.3551 - val_mse: 9.3551\n",
      "Epoch 2/20\n",
      "57/57 [==============================] - 7s 123ms/step - loss: 6.8960 - mse: 6.8960 - val_loss: 4.3303 - val_mse: 4.3303\n",
      "Epoch 3/20\n",
      "57/57 [==============================] - 7s 121ms/step - loss: 4.4573 - mse: 4.4573 - val_loss: 3.0821 - val_mse: 3.0821\n",
      "Epoch 4/20\n",
      "57/57 [==============================] - 7s 120ms/step - loss: 3.1384 - mse: 3.1384 - val_loss: 2.3199 - val_mse: 2.3199\n",
      "Epoch 5/20\n",
      "57/57 [==============================] - 7s 124ms/step - loss: 2.6473 - mse: 2.6473 - val_loss: 1.9012 - val_mse: 1.9012\n",
      "Epoch 6/20\n",
      "57/57 [==============================] - 7s 123ms/step - loss: 2.3386 - mse: 2.3386 - val_loss: 2.1803 - val_mse: 2.1803\n",
      "Epoch 7/20\n",
      "57/57 [==============================] - 7s 122ms/step - loss: 2.0887 - mse: 2.0887 - val_loss: 1.7350 - val_mse: 1.7350\n",
      "Epoch 8/20\n",
      "57/57 [==============================] - 7s 123ms/step - loss: 1.7784 - mse: 1.7784 - val_loss: 1.4580 - val_mse: 1.4580\n",
      "Epoch 9/20\n",
      "57/57 [==============================] - 7s 123ms/step - loss: 1.6076 - mse: 1.6076 - val_loss: 1.3441 - val_mse: 1.3441\n",
      "Epoch 10/20\n",
      "57/57 [==============================] - 7s 123ms/step - loss: 1.5271 - mse: 1.5271 - val_loss: 1.2291 - val_mse: 1.2291\n",
      "Epoch 11/20\n",
      "57/57 [==============================] - 7s 122ms/step - loss: 1.4631 - mse: 1.4631 - val_loss: 1.1887 - val_mse: 1.1887\n",
      "Epoch 12/20\n",
      "57/57 [==============================] - 7s 123ms/step - loss: 1.4308 - mse: 1.4308 - val_loss: 1.1495 - val_mse: 1.1495\n",
      "Epoch 13/20\n",
      "57/57 [==============================] - 7s 124ms/step - loss: 1.3570 - mse: 1.3570 - val_loss: 1.0247 - val_mse: 1.0247\n",
      "Epoch 14/20\n",
      "57/57 [==============================] - 7s 122ms/step - loss: 1.2454 - mse: 1.2454 - val_loss: 1.0776 - val_mse: 1.0776\n",
      "Epoch 15/20\n",
      "57/57 [==============================] - 7s 124ms/step - loss: 1.2337 - mse: 1.2337 - val_loss: 0.9542 - val_mse: 0.9542\n",
      "Epoch 16/20\n",
      "57/57 [==============================] - 7s 124ms/step - loss: 1.1262 - mse: 1.1262 - val_loss: 1.0201 - val_mse: 1.0201\n",
      "Epoch 17/20\n",
      "57/57 [==============================] - 7s 130ms/step - loss: 1.0701 - mse: 1.0701 - val_loss: 0.9848 - val_mse: 0.9848\n",
      "Epoch 18/20\n",
      "57/57 [==============================] - 7s 130ms/step - loss: 1.0451 - mse: 1.0451 - val_loss: 0.9948 - val_mse: 0.9948\n",
      "Epoch 19/20\n",
      "57/57 [==============================] - 8s 137ms/step - loss: 1.0101 - mse: 1.0101 - val_loss: 0.8521 - val_mse: 0.8521\n",
      "Epoch 20/20\n",
      "57/57 [==============================] - 7s 120ms/step - loss: 0.9477 - mse: 0.9477 - val_loss: 0.8392 - val_mse: 0.8392\n"
     ]
    },
    {
     "data": {
      "image/png": "[encoded data removed]",
      "text/plain": [
       "<Figure size 432x288 with 1 Axes>"
      ]
     },
     "metadata": {
      "needs_background": "light"
     },
     "output_type": "display_data"
    },
    {
     "name": "stdout",
     "output_type": "stream",
     "text": [
      "\n",
      "fold 3\n",
      "\n",
      "Epoch 1/20\n",
      "57/57 [==============================] - 11s 135ms/step - loss: 32.2195 - mse: 32.2195 - val_loss: 9.7813 - val_mse: 9.7813\n",
      "Epoch 2/20\n",
      "57/57 [==============================] - 7s 120ms/step - loss: 6.7363 - mse: 6.7363 - val_loss: 4.8974 - val_mse: 4.8974\n",
      "Epoch 3/20\n",
      "57/57 [==============================] - 7s 120ms/step - loss: 4.1931 - mse: 4.1931 - val_loss: 3.2658 - val_mse: 3.2658\n",
      "Epoch 4/20\n",
      "57/57 [==============================] - 7s 121ms/step - loss: 3.3660 - mse: 3.3660 - val_loss: 2.5223 - val_mse: 2.5223\n",
      "Epoch 5/20\n",
      "57/57 [==============================] - 7s 122ms/step - loss: 2.6268 - mse: 2.6268 - val_loss: 2.1111 - val_mse: 2.1111\n",
      "Epoch 6/20\n",
      "57/57 [==============================] - 7s 123ms/step - loss: 2.2351 - mse: 2.2351 - val_loss: 1.8181 - val_mse: 1.8181\n",
      "Epoch 7/20\n",
      "57/57 [==============================] - 7s 122ms/step - loss: 2.0063 - mse: 2.0063 - val_loss: 1.6321 - val_mse: 1.6321\n",
      "Epoch 8/20\n",
      "57/57 [==============================] - 7s 124ms/step - loss: 1.9042 - mse: 1.9042 - val_loss: 1.4341 - val_mse: 1.4341\n",
      "Epoch 9/20\n",
      "57/57 [==============================] - 7s 129ms/step - loss: 1.7069 - mse: 1.7069 - val_loss: 1.4610 - val_mse: 1.4610\n",
      "Epoch 10/20\n",
      "57/57 [==============================] - 7s 124ms/step - loss: 1.6346 - mse: 1.6346 - val_loss: 1.3360 - val_mse: 1.3360\n",
      "Epoch 11/20\n",
      "57/57 [==============================] - 7s 128ms/step - loss: 1.4880 - mse: 1.4880 - val_loss: 1.2010 - val_mse: 1.2010\n",
      "Epoch 12/20\n",
      "57/57 [==============================] - 7s 124ms/step - loss: 1.3299 - mse: 1.3299 - val_loss: 1.0880 - val_mse: 1.0880\n",
      "Epoch 13/20\n",
      "57/57 [==============================] - 7s 124ms/step - loss: 1.2670 - mse: 1.2670 - val_loss: 1.0119 - val_mse: 1.0119\n",
      "Epoch 14/20\n",
      "57/57 [==============================] - 7s 123ms/step - loss: 1.2399 - mse: 1.2399 - val_loss: 1.0518 - val_mse: 1.0518\n",
      "Epoch 15/20\n",
      "57/57 [==============================] - 7s 124ms/step - loss: 1.2300 - mse: 1.2300 - val_loss: 1.0932 - val_mse: 1.0932\n",
      "Epoch 16/20\n",
      "57/57 [==============================] - 7s 123ms/step - loss: 1.1415 - mse: 1.1415 - val_loss: 0.9671 - val_mse: 0.9671\n",
      "Epoch 17/20\n",
      "57/57 [==============================] - 7s 124ms/step - loss: 1.0476 - mse: 1.0476 - val_loss: 0.8602 - val_mse: 0.8602\n",
      "Epoch 18/20\n",
      "57/57 [==============================] - 7s 125ms/step - loss: 1.0215 - mse: 1.0215 - val_loss: 1.0268 - val_mse: 1.0268\n",
      "Epoch 19/20\n",
      "57/57 [==============================] - 7s 123ms/step - loss: 1.1071 - mse: 1.1071 - val_loss: 0.8796 - val_mse: 0.8796\n",
      "Epoch 20/20\n",
      "57/57 [==============================] - 7s 124ms/step - loss: 1.1325 - mse: 1.1325 - val_loss: 0.9437 - val_mse: 0.9437\n"
     ]
    },
    {
     "data": {
      "image/png": "[encoded data removed]",
      "text/plain": [
       "<Figure size 432x288 with 1 Axes>"
      ]
     },
     "metadata": {
      "needs_background": "light"
     },
     "output_type": "display_data"
    }
   ],
   "source": [
    "kfold_splits = 4\n",
    "kfold = KFold(n_splits=kfold_splits, shuffle=False)\n",
    "\n",
    "test_predictions = []\n",
    "\n",
    "for fold, (train_index, test_index) in enumerate(kfold.split(train_data, pressure_targets)):\n",
    "    print(f\"\\nfold {fold}\\n\")\n",
    "\n",
    "    x_train, x_valid = train_data[train_index], train_data[test_index]\n",
    "    y_train, y_valid = pressure_targets[train_index], pressure_targets[test_index]\n",
    "    \n",
    "    model = keras.models.Sequential()\n",
    "    \n",
    "    model.add(LSTM(250, return_sequences=True, input_shape=(80, features)))\n",
    "    model.add(LSTM(250, return_sequences=True, dropout=0.2))\n",
    "    model.add(LSTM(250, return_sequences=True, dropout=0.3))\n",
    "    model.add(Dense(250))\n",
    "    model.add(Dense(1))\n",
    "        \n",
    "    model.compile(\n",
    "        loss='mse', \n",
    "        optimizer='adam', \n",
    "        metrics=['mse'])\n",
    "    \n",
    "    history = model.fit(x_train, y_train, \n",
    "                        validation_data=(x_valid, y_valid), \n",
    "                        epochs=20, \n",
    "                        batch_size=1000)\n",
    "    \n",
    "    model.save(f'models/fold-{fold}.h5')\n",
    "    plot_history(history)\n",
    "    \n",
    "    \n",
    "    test_predictions.append(model.predict(test_data))"
   ]
  },
  {
   "cell_type": "code",
   "execution_count": 11,
   "id": "610f7fef",
   "metadata": {},
   "outputs": [
    {
     "name": "stdout",
     "output_type": "stream",
     "text": [
      "--------- 0 ---------\n",
      "[8.03783984]\n",
      "---------------------\n",
      "--------- 1 ---------\n",
      "[8.72592264]\n",
      "---------------------\n",
      "--------- 2 ---------\n",
      "[0.98851551]\n",
      "---------------------\n",
      "--------- 3 ---------\n",
      "[8.14651074]\n",
      "---------------------\n",
      "--------- 4 ---------\n",
      "[1.22743119]\n",
      "---------------------\n",
      "--------- 5 ---------\n",
      "[3.06150561]\n",
      "---------------------\n",
      "--------- 6 ---------\n",
      "[1.18719632]\n",
      "---------------------\n",
      "--------- 7 ---------\n",
      "[1.0190667]\n",
      "---------------------\n",
      "--------- 8 ---------\n",
      "[0.95954655]\n",
      "---------------------\n",
      "--------- 9 ---------\n",
      "[2.21764473]\n",
      "---------------------\n",
      "--------- 10 ---------\n",
      "[2.92878778]\n",
      "---------------------\n",
      "--------- 11 ---------\n",
      "[1.27091555]\n",
      "---------------------\n",
      "--------- 12 ---------\n",
      "[2.98615083]\n",
      "---------------------\n",
      "--------- 13 ---------\n",
      "[1.256066]\n",
      "---------------------\n",
      "--------- 14 ---------\n",
      "[2.37115028]\n",
      "---------------------\n",
      "--------- 15 ---------\n",
      "[1.00289723]\n",
      "---------------------\n",
      "--------- 16 ---------\n",
      "[2.78286135]\n",
      "---------------------\n",
      "--------- 17 ---------\n",
      "[0.99230119]\n",
      "---------------------\n",
      "--------- 18 ---------\n",
      "[2.38452541]\n",
      "---------------------\n",
      "--------- 19 ---------\n",
      "[1.03035466]\n",
      "---------------------\n",
      "--------- 20 ---------\n",
      "[2.89905145]\n",
      "---------------------\n",
      "--------- 21 ---------\n",
      "[0.9653836]\n",
      "---------------------\n",
      "--------- 22 ---------\n",
      "[2.11922398]\n",
      "---------------------\n",
      "--------- 23 ---------\n",
      "[0.99851242]\n",
      "---------------------\n",
      "--------- 24 ---------\n",
      "[1.63902886]\n",
      "---------------------\n",
      "--------- 25 ---------\n",
      "[1.05450847]\n",
      "---------------------\n",
      "--------- 26 ---------\n",
      "[1.11489849]\n",
      "---------------------\n",
      "--------- 27 ---------\n",
      "[1.93871782]\n",
      "---------------------\n",
      "--------- 28 ---------\n",
      "[1.13565041]\n",
      "---------------------\n",
      "--------- 29 ---------\n",
      "[1.90846347]\n",
      "---------------------\n",
      "--------- 30 ---------\n",
      "[11.34561423]\n",
      "---------------------\n",
      "--------- 31 ---------\n",
      "[0.95491156]\n",
      "---------------------\n",
      "--------- 32 ---------\n",
      "[9.21571319]\n",
      "---------------------\n",
      "--------- 33 ---------\n",
      "[0.99738457]\n",
      "---------------------\n",
      "--------- 34 ---------\n",
      "[7.6583814]\n",
      "---------------------\n",
      "--------- 35 ---------\n",
      "[1.09428334]\n",
      "---------------------\n"
     ]
    }
   ],
   "source": [
    "mse = []\n",
    "\n",
    "for i in range(38):\n",
    "    x_valid_2d = x_valid.reshape(18862*80, 38)\n",
    "\n",
    "    np.random.shuffle(x_valid_2d[:, i])\n",
    "\n",
    "    x_valid_2d = x_valid_2d.reshape(18862, 80, 38)\n",
    "    \n",
    "    pressure_predictions = model.predict(x_valid_2d)\n",
    "\n",
    "    plot_pressure_targets = pressure_predictions.reshape(1, 1508960)\n",
    "    plot_y_valid = y_valid.reshape(1, 1508960)\n",
    "    \n",
    "    mse_val = (np.square(plot_y_valid - plot_pressure_targets)).mean(axis=1)\n",
    "    \n",
    "    print(f\"--------- {i} ---------\") \n",
    "    print(mse_val)\n",
    "    print(f\"---------------------\") \n",
    "    \n",
    "    mse.append(mse_val)"
   ]
  },
  {
   "cell_type": "code",
   "execution_count": 23,
   "id": "70ecee4e",
   "metadata": {},
   "outputs": [
    {
     "name": "stderr",
     "output_type": "stream",
     "text": [
      "C:\\Users\\manoj\\AppData\\Local\\Temp\\ipykernel_5508\\3866969942.py:3: FutureWarning: Support for multi-dimensional indexing (e.g. `obj[:, None]`) is deprecated and will be removed in a future version.  Convert to a numpy array before indexing instead.\n",
      "  x_tick_labels = pd_data.columns[mse_sort_index]\n"
     ]
    },
    {
     "ename": "ValueError",
     "evalue": "The truth value of an array with more than one element is ambiguous. Use a.any() or a.all()",
     "output_type": "error",
     "traceback": [
      "\u001b[1;31m---------------------------------------------------------------------------\u001b[0m",
      "\u001b[1;31mValueError\u001b[0m                                Traceback (most recent call last)",
      "\u001b[1;32m~\\AppData\\Local\\Temp\\ipykernel_5508\\3866969942.py\u001b[0m in \u001b[0;36m<module>\u001b[1;34m\u001b[0m\n\u001b[0;32m      9\u001b[0m \u001b[0mplt\u001b[0m\u001b[1;33m.\u001b[0m\u001b[0mxlabel\u001b[0m\u001b[1;33m(\u001b[0m\u001b[1;34m'features'\u001b[0m\u001b[1;33m)\u001b[0m\u001b[1;33m\u001b[0m\u001b[1;33m\u001b[0m\u001b[0m\n\u001b[0;32m     10\u001b[0m \u001b[1;33m\u001b[0m\u001b[0m\n\u001b[1;32m---> 11\u001b[1;33m \u001b[0mplt\u001b[0m\u001b[1;33m.\u001b[0m\u001b[0mxlabel\u001b[0m\u001b[1;33m(\u001b[0m\u001b[0mx_tick_labels\u001b[0m\u001b[1;33m,\u001b[0m \u001b[0mrotation\u001b[0m\u001b[1;33m=\u001b[0m\u001b[1;36m90\u001b[0m\u001b[1;33m)\u001b[0m\u001b[1;33m\u001b[0m\u001b[1;33m\u001b[0m\u001b[0m\n\u001b[0m\u001b[0;32m     12\u001b[0m \u001b[1;33m\u001b[0m\u001b[0m\n\u001b[0;32m     13\u001b[0m \u001b[0mplt\u001b[0m\u001b[1;33m.\u001b[0m\u001b[0mshow\u001b[0m\u001b[1;33m(\u001b[0m\u001b[1;33m)\u001b[0m\u001b[1;33m\u001b[0m\u001b[1;33m\u001b[0m\u001b[0m\n",
      "\u001b[1;32m~\\.conda\\envs\\tflow\\lib\\site-packages\\matplotlib\\pyplot.py\u001b[0m in \u001b[0;36mxlabel\u001b[1;34m(xlabel, fontdict, labelpad, loc, **kwargs)\u001b[0m\n\u001b[0;32m   3292\u001b[0m \u001b[1;33m@\u001b[0m\u001b[0m_copy_docstring_and_deprecators\u001b[0m\u001b[1;33m(\u001b[0m\u001b[0mAxes\u001b[0m\u001b[1;33m.\u001b[0m\u001b[0mset_xlabel\u001b[0m\u001b[1;33m)\u001b[0m\u001b[1;33m\u001b[0m\u001b[1;33m\u001b[0m\u001b[0m\n\u001b[0;32m   3293\u001b[0m \u001b[1;32mdef\u001b[0m \u001b[0mxlabel\u001b[0m\u001b[1;33m(\u001b[0m\u001b[0mxlabel\u001b[0m\u001b[1;33m,\u001b[0m \u001b[0mfontdict\u001b[0m\u001b[1;33m=\u001b[0m\u001b[1;32mNone\u001b[0m\u001b[1;33m,\u001b[0m \u001b[0mlabelpad\u001b[0m\u001b[1;33m=\u001b[0m\u001b[1;32mNone\u001b[0m\u001b[1;33m,\u001b[0m \u001b[1;33m*\u001b[0m\u001b[1;33m,\u001b[0m \u001b[0mloc\u001b[0m\u001b[1;33m=\u001b[0m\u001b[1;32mNone\u001b[0m\u001b[1;33m,\u001b[0m \u001b[1;33m**\u001b[0m\u001b[0mkwargs\u001b[0m\u001b[1;33m)\u001b[0m\u001b[1;33m:\u001b[0m\u001b[1;33m\u001b[0m\u001b[1;33m\u001b[0m\u001b[0m\n\u001b[1;32m-> 3294\u001b[1;33m     return gca().set_xlabel(\n\u001b[0m\u001b[0;32m   3295\u001b[0m         \u001b[0mxlabel\u001b[0m\u001b[1;33m,\u001b[0m \u001b[0mfontdict\u001b[0m\u001b[1;33m=\u001b[0m\u001b[0mfontdict\u001b[0m\u001b[1;33m,\u001b[0m \u001b[0mlabelpad\u001b[0m\u001b[1;33m=\u001b[0m\u001b[0mlabelpad\u001b[0m\u001b[1;33m,\u001b[0m \u001b[0mloc\u001b[0m\u001b[1;33m=\u001b[0m\u001b[0mloc\u001b[0m\u001b[1;33m,\u001b[0m\u001b[1;33m\u001b[0m\u001b[1;33m\u001b[0m\u001b[0m\n\u001b[0;32m   3296\u001b[0m         **kwargs)\n",
      "\u001b[1;32m~\\.conda\\envs\\tflow\\lib\\site-packages\\matplotlib\\axes\\_base.py\u001b[0m in \u001b[0;36mset_xlabel\u001b[1;34m(self, xlabel, fontdict, labelpad, loc, **kwargs)\u001b[0m\n\u001b[0;32m   3336\u001b[0m         \u001b[1;32melif\u001b[0m \u001b[0mloc\u001b[0m \u001b[1;33m==\u001b[0m \u001b[1;34m'right'\u001b[0m\u001b[1;33m:\u001b[0m\u001b[1;33m\u001b[0m\u001b[1;33m\u001b[0m\u001b[0m\n\u001b[0;32m   3337\u001b[0m             \u001b[0mkwargs\u001b[0m\u001b[1;33m.\u001b[0m\u001b[0mupdate\u001b[0m\u001b[1;33m(\u001b[0m\u001b[0mx\u001b[0m\u001b[1;33m=\u001b[0m\u001b[1;36m1\u001b[0m\u001b[1;33m,\u001b[0m \u001b[0mhorizontalalignment\u001b[0m\u001b[1;33m=\u001b[0m\u001b[1;34m'right'\u001b[0m\u001b[1;33m)\u001b[0m\u001b[1;33m\u001b[0m\u001b[1;33m\u001b[0m\u001b[0m\n\u001b[1;32m-> 3338\u001b[1;33m         \u001b[1;32mreturn\u001b[0m \u001b[0mself\u001b[0m\u001b[1;33m.\u001b[0m\u001b[0mxaxis\u001b[0m\u001b[1;33m.\u001b[0m\u001b[0mset_label_text\u001b[0m\u001b[1;33m(\u001b[0m\u001b[0mxlabel\u001b[0m\u001b[1;33m,\u001b[0m \u001b[0mfontdict\u001b[0m\u001b[1;33m,\u001b[0m \u001b[1;33m**\u001b[0m\u001b[0mkwargs\u001b[0m\u001b[1;33m)\u001b[0m\u001b[1;33m\u001b[0m\u001b[1;33m\u001b[0m\u001b[0m\n\u001b[0m\u001b[0;32m   3339\u001b[0m \u001b[1;33m\u001b[0m\u001b[0m\n\u001b[0;32m   3340\u001b[0m     \u001b[1;32mdef\u001b[0m \u001b[0minvert_xaxis\u001b[0m\u001b[1;33m(\u001b[0m\u001b[0mself\u001b[0m\u001b[1;33m)\u001b[0m\u001b[1;33m:\u001b[0m\u001b[1;33m\u001b[0m\u001b[1;33m\u001b[0m\u001b[0m\n",
      "\u001b[1;32m~\\.conda\\envs\\tflow\\lib\\site-packages\\matplotlib\\axis.py\u001b[0m in \u001b[0;36mset_label_text\u001b[1;34m(self, label, fontdict, **kwargs)\u001b[0m\n\u001b[0;32m   1560\u001b[0m         \"\"\"\n\u001b[0;32m   1561\u001b[0m         \u001b[0mself\u001b[0m\u001b[1;33m.\u001b[0m\u001b[0misDefault_label\u001b[0m \u001b[1;33m=\u001b[0m \u001b[1;32mFalse\u001b[0m\u001b[1;33m\u001b[0m\u001b[1;33m\u001b[0m\u001b[0m\n\u001b[1;32m-> 1562\u001b[1;33m         \u001b[0mself\u001b[0m\u001b[1;33m.\u001b[0m\u001b[0mlabel\u001b[0m\u001b[1;33m.\u001b[0m\u001b[0mset_text\u001b[0m\u001b[1;33m(\u001b[0m\u001b[0mlabel\u001b[0m\u001b[1;33m)\u001b[0m\u001b[1;33m\u001b[0m\u001b[1;33m\u001b[0m\u001b[0m\n\u001b[0m\u001b[0;32m   1563\u001b[0m         \u001b[1;32mif\u001b[0m \u001b[0mfontdict\u001b[0m \u001b[1;32mis\u001b[0m \u001b[1;32mnot\u001b[0m \u001b[1;32mNone\u001b[0m\u001b[1;33m:\u001b[0m\u001b[1;33m\u001b[0m\u001b[1;33m\u001b[0m\u001b[0m\n\u001b[0;32m   1564\u001b[0m             \u001b[0mself\u001b[0m\u001b[1;33m.\u001b[0m\u001b[0mlabel\u001b[0m\u001b[1;33m.\u001b[0m\u001b[0mupdate\u001b[0m\u001b[1;33m(\u001b[0m\u001b[0mfontdict\u001b[0m\u001b[1;33m)\u001b[0m\u001b[1;33m\u001b[0m\u001b[1;33m\u001b[0m\u001b[0m\n",
      "\u001b[1;32m~\\.conda\\envs\\tflow\\lib\\site-packages\\matplotlib\\text.py\u001b[0m in \u001b[0;36mset_text\u001b[1;34m(self, s)\u001b[0m\n\u001b[0;32m   1213\u001b[0m         \u001b[1;32mif\u001b[0m \u001b[0ms\u001b[0m \u001b[1;32mis\u001b[0m \u001b[1;32mNone\u001b[0m\u001b[1;33m:\u001b[0m\u001b[1;33m\u001b[0m\u001b[1;33m\u001b[0m\u001b[0m\n\u001b[0;32m   1214\u001b[0m             \u001b[0ms\u001b[0m \u001b[1;33m=\u001b[0m \u001b[1;34m''\u001b[0m\u001b[1;33m\u001b[0m\u001b[1;33m\u001b[0m\u001b[0m\n\u001b[1;32m-> 1215\u001b[1;33m         \u001b[1;32mif\u001b[0m \u001b[0ms\u001b[0m \u001b[1;33m!=\u001b[0m \u001b[0mself\u001b[0m\u001b[1;33m.\u001b[0m\u001b[0m_text\u001b[0m\u001b[1;33m:\u001b[0m\u001b[1;33m\u001b[0m\u001b[1;33m\u001b[0m\u001b[0m\n\u001b[0m\u001b[0;32m   1216\u001b[0m             \u001b[0mself\u001b[0m\u001b[1;33m.\u001b[0m\u001b[0m_text\u001b[0m \u001b[1;33m=\u001b[0m \u001b[0mstr\u001b[0m\u001b[1;33m(\u001b[0m\u001b[0ms\u001b[0m\u001b[1;33m)\u001b[0m\u001b[1;33m\u001b[0m\u001b[1;33m\u001b[0m\u001b[0m\n\u001b[0;32m   1217\u001b[0m             \u001b[0mself\u001b[0m\u001b[1;33m.\u001b[0m\u001b[0mstale\u001b[0m \u001b[1;33m=\u001b[0m \u001b[1;32mTrue\u001b[0m\u001b[1;33m\u001b[0m\u001b[1;33m\u001b[0m\u001b[0m\n",
      "\u001b[1;31mValueError\u001b[0m: The truth value of an array with more than one element is ambiguous. Use a.any() or a.all()"
     ]
    },
    {
     "data": {
      "image/png": "[encoded data removed]",
      "text/plain": [
       "<Figure size 432x288 with 1 Axes>"
      ]
     },
     "metadata": {
      "needs_background": "light"
     },
     "output_type": "display_data"
    }
   ],
   "source": [
    "#mse = np.as_array(mse)\n",
    "mse_sort_index = np.argsort(mse)\n",
    "x_tick_labels = pd_data.columns[mse_sort_index]\n",
    "\n",
    "plt.plot(mse)\n",
    "\n",
    "plt.title('permutation importance')\n",
    "plt.ylabel('mse')\n",
    "plt.xlabel('features')\n",
    "\n",
    "plt.xlabel(x_tick_labels, rotation=90)\n",
    "\n",
    "plt.show()\n"
   ]
  },
  {
   "cell_type": "code",
   "execution_count": 14,
   "id": "a7c505bb",
   "metadata": {},
   "outputs": [],
   "source": [
    "pressure_predictions = model.predict(x_valid_2d)\n",
    "\n",
    "plot_pressure_targets = pressure_predictions.reshape(1, 1508960)\n",
    "plot_y_valid = y_valid.reshape(1, 1508960)"
   ]
  },
  {
   "cell_type": "code",
   "execution_count": 15,
   "id": "40f5836d",
   "metadata": {},
   "outputs": [
    {
     "data": {
      "image/png": "[encoded data removed]",
      "text/plain": [
       "<Figure size 432x288 with 1 Axes>"
      ]
     },
     "metadata": {
      "needs_background": "light"
     },
     "output_type": "display_data"
    }
   ],
   "source": [
    "plt.plot(plot_pressure_targets[0, :1000])\n",
    "plt.plot(plot_y_valid[0, :1000])\n",
    "\n",
    "plt.title('model')\n",
    "plt.ylabel('pressure')\n",
    "plt.xlabel('time')\n",
    "plt.legend(['predicted', 'expected'], loc='upper left')\n",
    "plt.show()"
   ]
  },
  {
   "cell_type": "code",
   "execution_count": 16,
   "id": "237c245d",
   "metadata": {},
   "outputs": [
    {
     "data": {
      "image/png": "[encoded data removed]",
      "text/plain": [
       "<Figure size 432x288 with 1 Axes>"
      ]
     },
     "metadata": {
      "needs_background": "light"
     },
     "output_type": "display_data"
    }
   ],
   "source": [
    "pressure_predictions = sum(test_predictions) / kfold_splits\n",
    "\n",
    "pressure_predictions = pressure_predictions.reshape(4024000)\n",
    "\n",
    "plt.plot(pressure_predictions[:80])\n",
    "\n",
    "plt.title('model')\n",
    "plt.ylabel('pressure')\n",
    "plt.xlabel('time')\n",
    "plt.legend(['predicted'], loc='upper left')\n",
    "plt.show()"
   ]
  },
  {
   "cell_type": "code",
   "execution_count": null,
   "id": "b4f48c28",
   "metadata": {},
   "outputs": [],
   "source": [
    "submission = pd.read_csv(\"data/sample_submission.csv\", index_col=1)\n",
    "submission[\"pressure\"] = pressure_predictions\n",
    "\n",
    "submission.to_csv(\"submission-mse10.csv\", index=False)\n",
    "\n",
    "submission.head()"
   ]
  },
  {
   "cell_type": "code",
   "execution_count": null,
   "id": "08747352",
   "metadata": {},
   "outputs": [],
   "source": []
  }
 ],
 "metadata": {
  "kernelspec": {
   "display_name": "Python 3 (ipykernel)",
   "language": "python",
   "name": "python3"
  },
  "language_info": {
   "codemirror_mode": {
    "name": "ipython",
    "version": 3
   },
   "file_extension": ".py",
   "mimetype": "text/x-python",
   "name": "python",
   "nbconvert_exporter": "python",
   "pygments_lexer": "ipython3",
   "version": "3.9.7"
  }
 },
 "nbformat": 4,
 "nbformat_minor": 5
}
